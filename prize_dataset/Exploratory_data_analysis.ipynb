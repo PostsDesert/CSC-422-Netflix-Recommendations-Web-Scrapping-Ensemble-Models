{
 "cells": [
  {
   "attachments": {},
   "cell_type": "markdown",
   "id": "98d7fd22",
   "metadata": {},
   "source": [
    "This function processes and merges the Netflix dataset's combined_data files (1 to 4) into a single CSV file"
   ]
  },
  {
   "cell_type": "code",
   "execution_count": 1,
   "id": "11f1a7fd",
   "metadata": {},
   "outputs": [
    {
     "name": "stdout",
     "output_type": "stream",
     "text": [
      "Processing combined_data_1.txt\n",
      "Processing combined_data_2.txt\n",
      "Processing combined_data_3.txt\n",
      "Processing combined_data_4.txt\n",
      "Merging completed!\n"
     ]
    }
   ],
   "source": [
    "\n",
    "import pandas as pd\n",
    "\n",
    "# Define the output file name and the column names.\n",
    "output_file = \"merged_netflix_data.csv\"\n",
    "column_names = [\"User_ID\", \"Rating\", \"Date\"]\n",
    "# Open the output file in write mode.\n",
    "with open(output_file, \"w\") as output:\n",
    "    for i in range(1, 5):\n",
    "        file_name = f\"combined_data_{i}.txt\"\n",
    "        print(f\"Processing {file_name}\")\n",
    "        with open(file_name, \"r\") as file:\n",
    "            movie_id = None\n",
    "            for line in file:\n",
    "                # If the line contains a colon, it is a movie ID. Remove the colon and store the movie ID.\n",
    "                if \":\" in line:\n",
    "                    movie_id = line.strip()[:-1]\n",
    "                    # If the line does not contain a colon, it is a data line containing user ID, rating, and date. Split the line by commas and store the values in respective variables.\n",
    "                else:\n",
    "                    user_id, rating, date = line.strip().split(\",\")\n",
    "                    output.write(f\"{movie_id},{user_id},{rating},{date}\\n\")\n",
    "\n",
    "print(\"Merging completed!\")"
   ]
  },
  {
   "attachments": {},
   "cell_type": "markdown",
   "id": "afb25b98",
   "metadata": {},
   "source": [
    "Pre process the movie_titles.csv to remove extra fields and creates a new file movie_titles_processed.csv"
   ]
  },
  {
   "cell_type": "code",
   "execution_count": 5,
   "id": "334bc5df",
   "metadata": {},
   "outputs": [],
   "source": [
    "import csv\n",
    "\n",
    "# Open the original file and create a new file for writing\n",
    "with open('movie_titles.csv', 'r') as csv_file, open('movie_titles_processed.csv', 'w', newline='') as new_file:\n",
    "    csv_reader = csv.reader(csv_file, delimiter=',')\n",
    "    csv_writer = csv.writer(new_file, delimiter=',')\n",
    "    \n",
    "    # Write the header to the new file\n",
    "    csv_writer.writerow(['MovieID', 'Year', 'Title'])\n",
    "    \n",
    "    # Loop through each row in the original file\n",
    "    for row in csv_reader:\n",
    "        \n",
    "        # If the row has more than three fields, remove the extra fields\n",
    "        if len(row) > 3:\n",
    "            row = [row[0], row[1], ','.join(row[2:])]\n",
    "        \n",
    "        # Write the row to the new file\n",
    "        csv_writer.writerow(row)\n"
   ]
  },
  {
   "attachments": {},
   "cell_type": "markdown",
   "id": "7fa223d4",
   "metadata": {},
   "source": [
    "This function is responsible for loading and preprocessing the movie titles and IMDb scraped data, and then merging them into a single DataFrame. The purpose is to create a comprehensive dataset that combines movie titles from the Netflix dataset with additional information from the IMDb dataset (such as genre, keywords, and aggregateRating)."
   ]
  },
  {
   "cell_type": "code",
   "execution_count": 23,
   "id": "73c89d35",
   "metadata": {},
   "outputs": [],
   "source": [
    "import pandas as pd\n",
    "import json\n",
    "\n",
    "# Load movie_titles.csv\n",
    "movie_titles = pd.read_csv(\"movie_titles_processed.csv\", encoding=\"ISO-8859-1\", header=0, names=[\"MovieID\", \"Year\", \"Title\"])\n",
    "\n",
    "# Load imdbscrapeddata.json\n",
    "with open(\"imdbscrapeddata.json\", \"r\") as file:\n",
    "    imdb_scraped_data = json.load(file)\n",
    "\n",
    "# Convert JSON data to a DataFrame\n",
    "imdb_scraped_data_df = pd.DataFrame([imdb_scraped_data])\n",
    "\n",
    "# Preprocessing and extracting relevant features from the IMDb data\n",
    "\n",
    "# Extracting genre, keywords, and aggregateRating\n",
    "imdb_scraped_data_df = imdb_scraped_data_df[[\"name\", \"genre\", \"keywords\", \"aggregateRating\"]]\n",
    "\n",
    "# Merge movie_titles DataFrame with imdb_scraped_data_df. Now contains the movie titles from the Netflix dataset with additional infomation from the IMDB dataset (genre, keywords, and aggregateRating).\n",
    "merged_data = movie_titles.merge(imdb_scraped_data_df, left_on=\"Title\", right_on=\"name\", how=\"left\")\n"
   ]
  },
  {
   "attachments": {},
   "cell_type": "markdown",
   "id": "3be34ac1",
   "metadata": {},
   "source": [
    "This function is responsible for loading the merged Netflix data, converting the 'Date' column to a DateTime object, merging the Netflix data with the previously created 'merged_data' DataFrame (which contains movie titles along with IMDb information), and printing the first few rows of the final merged dataset."
   ]
  },
  {
   "cell_type": "code",
   "execution_count": 22,
   "id": "b147ea7d",
   "metadata": {},
   "outputs": [
    {
     "name": "stdout",
     "output_type": "stream",
     "text": [
      "   MovieID  User_ID  Rating       Date    Year            Title name genre  \\\n",
      "0        1  1488844       3 2005-09-06  2003.0  Dinosaur Planet  NaN   NaN   \n",
      "1        1   822109       5 2005-05-13  2003.0  Dinosaur Planet  NaN   NaN   \n",
      "2        1   885013       4 2005-10-19  2003.0  Dinosaur Planet  NaN   NaN   \n",
      "3        1    30878       4 2005-12-26  2003.0  Dinosaur Planet  NaN   NaN   \n",
      "4        1   823519       3 2004-05-03  2003.0  Dinosaur Planet  NaN   NaN   \n",
      "\n",
      "  keywords aggregateRating  \n",
      "0      NaN             NaN  \n",
      "1      NaN             NaN  \n",
      "2      NaN             NaN  \n",
      "3      NaN             NaN  \n",
      "4      NaN             NaN  \n"
     ]
    }
   ],
   "source": [
    "# Load the merged Netflix data into a DataFrame\n",
    "netflix_data = pd.read_csv(\"merged_netflix_data.csv\", header=None, names=[\"MovieID\", \"User_ID\", \"Rating\", \"Date\"])\n",
    "\n",
    "# Convert the 'Date' column to a DateTime object\n",
    "netflix_data['Date'] = pd.to_datetime(netflix_data['Date'])\n",
    "\n",
    "# Merge the netflix_data DataFrame with the merged_data DataFrame\n",
    "final_data = netflix_data.merge(merged_data, on=\"MovieID\", how=\"left\")\n",
    "\n",
    "# Print the final merged dataset\n",
    "print(final_data.head())\n"
   ]
  }
 ],
 "metadata": {
  "kernelspec": {
   "display_name": "Python 3",
   "language": "python",
   "name": "python3"
  },
  "language_info": {
   "codemirror_mode": {
    "name": "ipython",
    "version": 3
   },
   "file_extension": ".py",
   "mimetype": "text/x-python",
   "name": "python",
   "nbconvert_exporter": "python",
   "pygments_lexer": "ipython3",
   "version": "3.11.1"
  },
  "vscode": {
   "interpreter": {
    "hash": "6232bbda71c2a8872a243cd5305a5809aa00d681b7d01e42cef957f0cca0ac78"
   }
  }
 },
 "nbformat": 4,
 "nbformat_minor": 5
}
